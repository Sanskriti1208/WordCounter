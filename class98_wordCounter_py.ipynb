{
  "nbformat": 4,
  "nbformat_minor": 0,
  "metadata": {
    "colab": {
      "name": "class98-wordCounter.py",
      "provenance": [],
      "collapsed_sections": [],
      "authorship_tag": "ABX9TyPKFUxznFiasmme297gILNO",
      "include_colab_link": true
    },
    "kernelspec": {
      "name": "python3",
      "display_name": "Python 3"
    },
    "language_info": {
      "name": "python"
    }
  },
  "cells": [
    {
      "cell_type": "markdown",
      "metadata": {
        "id": "view-in-github",
        "colab_type": "text"
      },
      "source": [
        "<a href=\"https://colab.research.google.com/github/Sanskriti1208/WordCounter/blob/main/class98_wordCounter_py.ipynb\" target=\"_parent\"><img src=\"https://colab.research.google.com/assets/colab-badge.svg\" alt=\"Open In Colab\"/></a>"
      ]
    },
    {
      "cell_type": "code",
      "metadata": {
        "colab": {
          "base_uri": "https://localhost:8080/"
        },
        "id": "CXKg0D8OTNsJ",
        "outputId": "f81d0baa-6310-4fc8-e216-af2a31193140"
      },
      "source": [
        "def countWordsFromFile() :\n",
        "  fileName = \"test.txt\"\n",
        "  file = open(fileName, 'r')\n",
        "  numberOfWords = 0\n",
        "  for line in file:\n",
        "    words = line.split()\n",
        "    numberOfWords = numberOfWords+len(words)\n",
        "  print(\"Number Of Words \", numberOfWords)\n",
        "\n",
        "countWordsFromFile()"
      ],
      "execution_count": 2,
      "outputs": [
        {
          "output_type": "stream",
          "name": "stdout",
          "text": [
            "Number Of Words  19\n"
          ]
        }
      ]
    }
  ]
}